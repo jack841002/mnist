{
 "cells": [
  {
   "cell_type": "code",
   "execution_count": 1,
   "metadata": {},
   "outputs": [
    {
     "name": "stderr",
     "output_type": "stream",
     "text": [
      "Using TensorFlow backend.\n"
     ]
    }
   ],
   "source": [
    "import numpy as np\n",
    "from keras.models import Sequential\n",
    "from keras.layers.core import Dense, Dropout, Activation\n",
    "from keras.layers import Conv2D, MaxPooling2D, Flatten\n",
    "from keras.optimizers import SGD, Adam\n",
    "from keras.utils import np_utils\n",
    "from keras.datasets import mnist"
   ]
  },
  {
   "cell_type": "code",
   "execution_count": 2,
   "metadata": {},
   "outputs": [],
   "source": [
    "def load_data():\n",
    "    (x_train, y_train), (x_test, y_test) = mnist.load_data()\n",
    "    number = 10000\n",
    "    x_train = x_train[0:number]\n",
    "    y_train = y_train[0:number]\n",
    "    x_train = x_train.reshape(number, 28*28)\n",
    "    x_test = x_test.reshape(x_test.shape[0], 28*28)\n",
    "    x_train = x_train.astype('float32')\n",
    "    x_test = x_test.astype('float32')\n",
    "    y_train = np_utils.to_categorical(y_train,10)\n",
    "    y_test = np_utils.to_categorical(y_test,10)\n",
    "    x_train = x_train\n",
    "    x_test = x_test\n",
    "    x_train = x_train / 255\n",
    "    x_test = x_test / 255\n",
    "#    x_test = np.random.normal(x_test)\n",
    "    return (x_train, y_train), (x_test, y_test)"
   ]
  },
  {
   "cell_type": "code",
   "execution_count": 3,
   "metadata": {},
   "outputs": [],
   "source": [
    "(x_train, y_train), (x_test, y_test) = load_data()"
   ]
  },
  {
   "cell_type": "code",
   "execution_count": 4,
   "metadata": {},
   "outputs": [],
   "source": [
    "model = Sequential()"
   ]
  },
  {
   "cell_type": "code",
   "execution_count": 5,
   "metadata": {},
   "outputs": [
    {
     "name": "stdout",
     "output_type": "stream",
     "text": [
      "WARNING:tensorflow:From D:\\Anaconda\\lib\\site-packages\\tensorflow\\python\\framework\\op_def_library.py:263: colocate_with (from tensorflow.python.framework.ops) is deprecated and will be removed in a future version.\n",
      "Instructions for updating:\n",
      "Colocations handled automatically by placer.\n"
     ]
    }
   ],
   "source": [
    "model.add(Dense(input_dim=28*28, units=633, activation='relu'))\n",
    "#model.add(Dropout(0.7))\n",
    "model.add(Dense(units=633,activation='relu'))\n",
    "#model.add(Dropout(0.7))\n",
    "model.add(Dense(units=633,activation='relu'))\n",
    "#model.add(Dropout(0.7))\n",
    "\n",
    "model.add(Dense(units=10,activation='softmax'))"
   ]
  },
  {
   "cell_type": "code",
   "execution_count": 6,
   "metadata": {},
   "outputs": [],
   "source": [
    "#分類loss不適合用mse\n",
    "model.compile(loss='categorical_crossentropy', optimizer='adam', metrics=['accuracy'])"
   ]
  },
  {
   "cell_type": "code",
   "execution_count": 7,
   "metadata": {},
   "outputs": [
    {
     "name": "stdout",
     "output_type": "stream",
     "text": [
      "WARNING:tensorflow:From D:\\Anaconda\\lib\\site-packages\\tensorflow\\python\\ops\\math_ops.py:3066: to_int32 (from tensorflow.python.ops.math_ops) is deprecated and will be removed in a future version.\n",
      "Instructions for updating:\n",
      "Use tf.cast instead.\n",
      "Epoch 1/20\n",
      "10000/10000 [==============================] - 4s 420us/step - loss: 0.4307 - acc: 0.8761\n",
      "Epoch 2/20\n",
      "10000/10000 [==============================] - 4s 412us/step - loss: 0.1461 - acc: 0.9546\n",
      "Epoch 3/20\n",
      "10000/10000 [==============================] - 4s 418us/step - loss: 0.0869 - acc: 0.9716 0s - loss: 0.0846 - acc: 0\n",
      "Epoch 4/20\n",
      "10000/10000 [==============================] - 4s 407us/step - loss: 0.0599 - acc: 0.9809\n",
      "Epoch 5/20\n",
      "10000/10000 [==============================] - 4s 380us/step - loss: 0.0411 - acc: 0.9875\n",
      "Epoch 6/20\n",
      "10000/10000 [==============================] - 4s 374us/step - loss: 0.0351 - acc: 0.9891\n",
      "Epoch 7/20\n",
      "10000/10000 [==============================] - 4s 386us/step - loss: 0.0306 - acc: 0.9909\n",
      "Epoch 8/20\n",
      "10000/10000 [==============================] - 4s 376us/step - loss: 0.0127 - acc: 0.9967\n",
      "Epoch 9/20\n",
      "10000/10000 [==============================] - 4s 380us/step - loss: 0.0102 - acc: 0.9972\n",
      "Epoch 10/20\n",
      "10000/10000 [==============================] - 4s 414us/step - loss: 0.0248 - acc: 0.9919\n",
      "Epoch 11/20\n",
      "10000/10000 [==============================] - 4s 444us/step - loss: 0.0362 - acc: 0.9879\n",
      "Epoch 12/20\n",
      "10000/10000 [==============================] - 4s 383us/step - loss: 0.0257 - acc: 0.9921\n",
      "Epoch 13/20\n",
      "10000/10000 [==============================] - 4s 366us/step - loss: 0.0122 - acc: 0.9967\n",
      "Epoch 14/20\n",
      "10000/10000 [==============================] - 4s 362us/step - loss: 0.0125 - acc: 0.9958\n",
      "Epoch 15/20\n",
      "10000/10000 [==============================] - 4s 363us/step - loss: 0.0101 - acc: 0.9967\n",
      "Epoch 16/20\n",
      "10000/10000 [==============================] - 4s 368us/step - loss: 0.0047 - acc: 0.9982\n",
      "Epoch 17/20\n",
      "10000/10000 [==============================] - 4s 364us/step - loss: 0.0049 - acc: 0.9988\n",
      "Epoch 18/20\n",
      "10000/10000 [==============================] - 4s 362us/step - loss: 0.0021 - acc: 0.9993\n",
      "Epoch 19/20\n",
      "10000/10000 [==============================] - 4s 364us/step - loss: 0.0150 - acc: 0.9962\n",
      "Epoch 20/20\n",
      "10000/10000 [==============================] - 4s 370us/step - loss: 0.0273 - acc: 0.9924\n"
     ]
    },
    {
     "data": {
      "text/plain": [
       "<keras.callbacks.History at 0x1c7c7ce6208>"
      ]
     },
     "execution_count": 7,
     "metadata": {},
     "output_type": "execute_result"
    }
   ],
   "source": [
    "model.fit(x_train, y_train, batch_size=100, epochs=20)"
   ]
  },
  {
   "cell_type": "code",
   "execution_count": 8,
   "metadata": {},
   "outputs": [
    {
     "name": "stdout",
     "output_type": "stream",
     "text": [
      "10000/10000 [==============================] - 1s 104us/step\n",
      "\n",
      "train Acc: 0.9971\n"
     ]
    }
   ],
   "source": [
    "result = model.evaluate(x_train, y_train)\n",
    "print ('\\ntrain Acc:', result[1])"
   ]
  },
  {
   "cell_type": "code",
   "execution_count": 9,
   "metadata": {},
   "outputs": [
    {
     "name": "stdout",
     "output_type": "stream",
     "text": [
      "10000/10000 [==============================] - 1s 98us/step\n",
      "\n",
      "Test Acc: 0.9586\n"
     ]
    }
   ],
   "source": [
    "result = model.evaluate(x_test, y_test)\n",
    "print ('\\nTest Acc:', result[1])"
   ]
  },
  {
   "cell_type": "code",
   "execution_count": null,
   "metadata": {},
   "outputs": [],
   "source": []
  },
  {
   "cell_type": "code",
   "execution_count": null,
   "metadata": {},
   "outputs": [],
   "source": []
  }
 ],
 "metadata": {
  "kernelspec": {
   "display_name": "Python 3",
   "language": "python",
   "name": "python3"
  },
  "language_info": {
   "codemirror_mode": {
    "name": "ipython",
    "version": 3
   },
   "file_extension": ".py",
   "mimetype": "text/x-python",
   "name": "python",
   "nbconvert_exporter": "python",
   "pygments_lexer": "ipython3",
   "version": "3.7.3"
  }
 },
 "nbformat": 4,
 "nbformat_minor": 2
}
